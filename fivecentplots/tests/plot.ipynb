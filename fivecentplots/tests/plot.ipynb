{
 "cells": [
  {
   "cell_type": "markdown",
   "metadata": {
    "collapsed": true
   },
   "source": [
    "# plot function tests"
   ]
  },
  {
   "cell_type": "code",
   "execution_count": null,
   "metadata": {
    "collapsed": true
   },
   "outputs": [],
   "source": [
    "__author__    = 'Steve Nicholes'\n",
    "__copyright__ = 'Copyright (C) 2017 Steve Nicholes'\n",
    "__license__   = 'GPL v3'\n",
    "__version__   = '0.1.0'"
   ]
  },
  {
   "cell_type": "code",
   "execution_count": 1,
   "metadata": {
    "collapsed": false
   },
   "outputs": [
    {
     "data": {
      "text/plain": [
       "<module 'fivecentplots' from 'C:\\\\GitHub\\\\fivecentplots\\\\fivecentplots\\\\__init__.py'>"
      ]
     },
     "execution_count": 1,
     "metadata": {},
     "output_type": "execute_result"
    }
   ],
   "source": [
    "# Imports\n",
    "%load_ext autoreload\n",
    "%autoreload 2\n",
    "import sys\n",
    "sys.path = [r'C:\\GitHub\\fivecentplots'] + sys.path\n",
    "import fivecentplots as fcp\n",
    "import pandas as pd\n",
    "import numpy as np\n",
    "import os, sys, pdb\n",
    "%matplotlib inline\n",
    "#import matplotlib.pyplot as mpl\n",
    "\n",
    "osjoin = os.path.join\n",
    "st = pdb.set_trace\n",
    "fcp"
   ]
  },
  {
   "cell_type": "code",
   "execution_count": 2,
   "metadata": {
    "collapsed": true
   },
   "outputs": [],
   "source": [
    "SHOW = False"
   ]
  },
  {
   "cell_type": "markdown",
   "metadata": {},
   "source": [
    "# Read data"
   ]
  },
  {
   "cell_type": "code",
   "execution_count": 3,
   "metadata": {
    "collapsed": false
   },
   "outputs": [],
   "source": [
    "df = pd.read_csv(r'C:\\GitHub\\fivecentplots\\fivecentplots\\tests\\fake_data.csv')"
   ]
  },
  {
   "cell_type": "markdown",
   "metadata": {},
   "source": [
    "# Theme"
   ]
  },
  {
   "cell_type": "code",
   "execution_count": null,
   "metadata": {
    "collapsed": false
   },
   "outputs": [],
   "source": [
    "#fcp.set_theme('white')\n",
    "fcp.set_theme('gray')"
   ]
  },
  {
   "cell_type": "markdown",
   "metadata": {},
   "source": [
    "# Plots"
   ]
  },
  {
   "cell_type": "markdown",
   "metadata": {},
   "source": [
    "## Single IV curve grouped by die"
   ]
  },
  {
   "cell_type": "code",
   "execution_count": null,
   "metadata": {
    "collapsed": false
   },
   "outputs": [],
   "source": [
    "sub = df[(df.Substrate=='Si') &\n",
    "         (df['Target Wavelength']==450) &\n",
    "         (df['Boost Level']==0.2) &\n",
    "         (df['Temperature [C]']==25).copy()\n",
    "        ]\n",
    "%time fcp.plot(df=sub, x='Voltage', y='I [A]', leg_groups='Die', inline=True, show=SHOW)"
   ]
  },
  {
   "cell_type": "markdown",
   "metadata": {},
   "source": [
    "## Facet grid by boost level and temperature"
   ]
  },
  {
   "cell_type": "code",
   "execution_count": null,
   "metadata": {
    "collapsed": false,
    "scrolled": true
   },
   "outputs": [],
   "source": [
    "sub = df[(df.Substrate=='Si') &\n",
    "         (df['Target Wavelength']==450)].copy()\n",
    "%time fcp.plot(df=sub, x='Voltage', y='I [A]', leg_groups='Die', col='Boost Level', row='Temperature [C]', \\\n",
    "               inline=True, show=SHOW, ax_scale='logy', legend_edge_color='k', tick_labels_minor_x=True, \\\n",
    "               ax_size=[400,400], grid_minor_y=True, ticks_minor_number_x=2)\n",
    "# minor tick labels overlap\n",
    "# max value is geting selected wrong"
   ]
  },
  {
   "cell_type": "markdown",
   "metadata": {},
   "source": [
    "## Facet grid by boost level and temperature (no axis sharing)"
   ]
  },
  {
   "cell_type": "code",
   "execution_count": null,
   "metadata": {
    "collapsed": false
   },
   "outputs": [],
   "source": [
    "sub = df[(df.Substrate=='Si') &\n",
    "         (df['Target Wavelength']==450)].copy()\n",
    "fcp.plot(df=sub, x='Voltage', y='I [A]', leg_groups='Die', row='Boost Level', col='Temperature [C]',\n",
    "         sharex=False, sharey=False, ax_size=[200,300], inline=True, show=SHOW)"
   ]
  },
  {
   "cell_type": "markdown",
   "metadata": {},
   "source": [
    "## Facet grid by boost level and temperature with transformation"
   ]
  },
  {
   "cell_type": "code",
   "execution_count": null,
   "metadata": {
    "collapsed": false
   },
   "outputs": [],
   "source": [
    "sub = df[(df.Substrate=='Si') &\n",
    "         (df['Target Wavelength']==450)].copy()\n",
    "fcp.plot(df=sub, x='Voltage', y='I [A]', leg_groups='Die', row='Boost Level', col='Temperature [C]', ax_scale='logx',\n",
    "          ytrans=('pow',4), ymin=1E-8, ymax=1E-2, inline=True, show=SHOW)  #issues here with ranges, ticks"
   ]
  },
  {
   "cell_type": "markdown",
   "metadata": {},
   "source": [
    "## Wrap example"
   ]
  },
  {
   "cell_type": "code",
   "execution_count": null,
   "metadata": {
    "collapsed": false
   },
   "outputs": [],
   "source": [
    "sub = df[(df.Substrate=='Si') &\n",
    "          (df['Target Wavelength']==450)].copy()\n",
    "fcp.plot(df=sub, x='Voltage', y='I [A]', leg_groups='Die', wrap='Temperature [C]', ax_size=[200,200],\n",
    "         inline=True, show=SHOW, ax_scale='logy', ticks=False)"
   ]
  },
  {
   "cell_type": "code",
   "execution_count": null,
   "metadata": {
    "collapsed": false
   },
   "outputs": [],
   "source": [
    "sub = df[(df.Substrate=='Si') &\n",
    "          (df['Target Wavelength']==450)].copy()\n",
    "fcp.plot(df=sub, x='Voltage', y='I [A]', leg_groups='Die', wrap=['Boost Level', 'Temperature [C]'], ax_size=[200,200],\n",
    "         inline=True, show=SHOW, ax_scale='logy', ticks=False)"
   ]
  },
  {
   "cell_type": "markdown",
   "metadata": {},
   "source": [
    "## Fig groups example"
   ]
  },
  {
   "cell_type": "code",
   "execution_count": null,
   "metadata": {
    "collapsed": false
   },
   "outputs": [],
   "source": [
    "fcp.plot(df=df, x='Voltage', y='I [A]', leg_groups='Die', fig_groups=['Substrate'],\n",
    "         row='Boost Level', col='Temperature [C]', ax_scale='logx',\n",
    "         ytrans=('pow',4), ymin=1E-8, ymax=1E-2, inline=True, show=SHOW)  #issues here with ranges, ticks"
   ]
  },
  {
   "cell_type": "code",
   "execution_count": null,
   "metadata": {
    "collapsed": false
   },
   "outputs": [],
   "source": [
    "fcp.plot(df=df, x='Voltage', y='I [A]', leg_groups='Die', fig_groups=['Substrate', 'Target Wavelength'],\n",
    "         row='Boost Level', col='Temperature [C]', ax_scale='logx', ytrans=('pow',4), ymin=1E-8, ymax=1E-2, \n",
    "         inline=True, show=SHOW)"
   ]
  },
  {
   "cell_type": "markdown",
   "metadata": {},
   "source": [
    "## Multiple y on same axis with filter"
   ]
  },
  {
   "cell_type": "code",
   "execution_count": null,
   "metadata": {
    "collapsed": false
   },
   "outputs": [],
   "source": [
    "filt = 'Substrate==\"Si\" & Target Wavelength==450 & Boost Level==0.2 & Temperature [C]==25'\n",
    "fcp.plot(df=df, x='Voltage', y=['I [A]', 'Voltage'], filter=filt, leg_groups='Die', ylabel='Values', \n",
    "         inline=True, show=SHOW)"
   ]
  },
  {
   "cell_type": "markdown",
   "metadata": {},
   "source": [
    "## Multiple y on same axis with filter and twinx"
   ]
  },
  {
   "cell_type": "code",
   "execution_count": null,
   "metadata": {
    "collapsed": false
   },
   "outputs": [],
   "source": [
    "filt = 'Substrate==\"Si\" & Target Wavelength==450 & Boost Level==0.2 & Temperature [C]==25'\n",
    "fcp.plot(df=df, x='Voltage', y=['I [A]', 'Voltage'], filter=filt, inline=True, leg_groups='Die', \n",
    "         ylabel='I [A]', ylabel2='Voltage', twinx=True, ax_size=[350,350], show=SHOW)"
   ]
  },
  {
   "cell_type": "markdown",
   "metadata": {
    "collapsed": true
   },
   "source": [
    "NEED STAT_VAL TEST"
   ]
  },
  {
   "cell_type": "code",
   "execution_count": null,
   "metadata": {
    "collapsed": false
   },
   "outputs": [],
   "source": [
    "filt = 'Substrate==\"Si\" & Target Wavelength==450 & Boost Level==0.2 & Temperature [C]==25'\n",
    "fcp.plot(df=df, x='Voltage', y='I [A]', filter=filt, leg_groups='Die', ylabel='Values', inline=True, \n",
    "         conf_int='range', show=SHOW)"
   ]
  },
  {
   "cell_type": "code",
   "execution_count": null,
   "metadata": {
    "collapsed": false
   },
   "outputs": [],
   "source": [
    "filt = 'Substrate==\"Si\" & Target Wavelength==450 & Boost Level==0.2 & Temperature [C]==25'\n",
    "fcp.plot(df=df, x='Voltage', y='I [A]', filter=filt, leg_groups='Die', ylabel='Values', inline=True, \n",
    "         conf_int=0.99, show=SHOW)"
   ]
  },
  {
   "cell_type": "code",
   "execution_count": null,
   "metadata": {
    "collapsed": true
   },
   "outputs": [],
   "source": []
  }
 ],
 "metadata": {
  "kernelspec": {
   "display_name": "Python 3",
   "language": "python",
   "name": "python3"
  },
  "language_info": {
   "codemirror_mode": {
    "name": "ipython",
    "version": 3
   },
   "file_extension": ".py",
   "mimetype": "text/x-python",
   "name": "python",
   "nbconvert_exporter": "python",
   "pygments_lexer": "ipython3",
   "version": "3.5.1"
  },
  "toc": {
   "nav_menu": {},
   "number_sections": true,
   "sideBar": true,
   "skip_h1_title": false,
   "toc_cell": false,
   "toc_position": {
    "height": "697px",
    "left": "0px",
    "right": "1026px",
    "top": "81px",
    "width": "212px"
   },
   "toc_section_display": "block",
   "toc_window_display": true
  }
 },
 "nbformat": 4,
 "nbformat_minor": 0
}
