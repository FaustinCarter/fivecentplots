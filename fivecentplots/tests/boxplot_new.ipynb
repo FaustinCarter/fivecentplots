{
 "cells": [
  {
   "cell_type": "markdown",
   "metadata": {},
   "source": [
    "# boxplot() Examples"
   ]
  },
  {
   "cell_type": "code",
   "execution_count": 1,
   "metadata": {},
   "outputs": [],
   "source": [
    "__author__    = 'Steve Nicholes'\n",
    "__copyright__ = 'Copyright (C) 2018 Steve Nicholes'\n",
    "__license__   = 'GPL v3'\n",
    "__version__   = '0.3.0'"
   ]
  },
  {
   "cell_type": "markdown",
   "metadata": {},
   "source": [
    "## Setup"
   ]
  },
  {
   "cell_type": "markdown",
   "metadata": {},
   "source": [
    "### Imports"
   ]
  },
  {
   "cell_type": "code",
   "execution_count": 2,
   "metadata": {},
   "outputs": [
    {
     "data": {
      "text/plain": [
       "<module 'fivecentplots' from 'C:\\\\GitHub\\\\fivecentplots\\\\fivecentplots\\\\__init__.py'>"
      ]
     },
     "execution_count": 2,
     "metadata": {},
     "output_type": "execute_result"
    }
   ],
   "source": [
    "%load_ext autoreload\n",
    "%autoreload 2\n",
    "%matplotlib inline\n",
    "import sys\n",
    "sys.path = [r'C:\\GitHub\\fivecentplots'] + sys.path\n",
    "import fivecentplots as fcp\n",
    "import pandas as pd\n",
    "import numpy as np\n",
    "import os, sys, pdb\n",
    "osjoin = os.path.join\n",
    "st = pdb.set_trace\n",
    "fcp"
   ]
  },
  {
   "cell_type": "markdown",
   "metadata": {},
   "source": [
    "### Sample data"
   ]
  },
  {
   "cell_type": "code",
   "execution_count": 3,
   "metadata": {},
   "outputs": [],
   "source": [
    "df = pd.read_csv(osjoin(os.path.dirname(fcp.__file__), 'tests', 'fake_data_box.csv'))"
   ]
  },
  {
   "cell_type": "markdown",
   "metadata": {},
   "source": [
    "### Set theme"
   ]
  },
  {
   "cell_type": "code",
   "execution_count": 4,
   "metadata": {},
   "outputs": [],
   "source": [
    "#fcp.set_theme('gray')\n",
    "#fcp.set_theme('white')"
   ]
  },
  {
   "cell_type": "markdown",
   "metadata": {},
   "source": [
    "### Other"
   ]
  },
  {
   "cell_type": "code",
   "execution_count": 5,
   "metadata": {},
   "outputs": [],
   "source": [
    "SHOW = False"
   ]
  },
  {
   "cell_type": "markdown",
   "metadata": {},
   "source": [
    "## Groups"
   ]
  },
  {
   "cell_type": "markdown",
   "metadata": {},
   "source": [
    "### No groups"
   ]
  },
  {
   "cell_type": "code",
   "execution_count": 6,
   "metadata": {},
   "outputs": [
    {
     "data": {
      "text/plain": [
       "Index(['Batch', 'Sample', 'Region', 'Value'], dtype='object')"
      ]
     },
     "execution_count": 6,
     "metadata": {},
     "output_type": "execute_result"
    }
   ],
   "source": [
    "df.columns"
   ]
  },
  {
   "cell_type": "code",
   "execution_count": 35,
   "metadata": {},
   "outputs": [
    {
     "name": "stdout",
     "output_type": "stream",
     "text": [
      "bah: axes[ia].get_xaxis().get_major_formatter().set_scientific(False)\n",
      "> c:\\github\\fivecentplots\\fivecentplots\\layout.py(2698)set_axes_ticks()\n",
      "-> if self.tick_cleanup and tlminon:\n",
      "(Pdb) c\n",
      "Value.png\n"
     ]
    },
    {
     "data": {
      "image/png": "[encoded data removed]",
      "text/plain": [
       "<matplotlib.figure.Figure at 0x25608b69be0>"
      ]
     },
     "metadata": {},
     "output_type": "display_data"
    }
   ],
   "source": [
    "fcp.boxplot(df=df, y='Value', show=SHOW, ticks_minor_y=True, tick_labels_minor=True, grid_minor_y=True)\n",
    "# minor ticks and grids don't work"
   ]
  },
  {
   "cell_type": "code",
   "execution_count": 14,
   "metadata": {
    "collapsed": true
   },
   "outputs": [
    {
     "name": "stdout",
     "output_type": "stream",
     "text": [
      "> c:\\github\\fivecentplots\\fivecentplots\\layout.py(2060)plot_box()\n",
      "-> bp = self.axes.obj[ir, ic].boxplot(data,\n",
      "(Pdb) data\n",
      "[    Value\n",
      "0     3.5\n",
      "1     3.5\n",
      "2     1.6\n",
      "3     1.3\n",
      "4     1.0\n",
      "5     1.2\n",
      "6     1.5\n",
      "7     1.2\n",
      "8     1.3\n",
      "9     1.1\n",
      "10    1.0\n",
      "11    2.6\n",
      "12    1.5\n",
      "13    3.3\n",
      "14    3.2\n",
      "15    4.0\n",
      "16    2.1\n",
      "17    2.2\n",
      "18    3.0\n",
      "19    2.3\n",
      "20    2.5,     Value\n",
      "0     4.3\n",
      "1     1.6\n",
      "2     6.3\n",
      "3     2.0\n",
      "4     3.2\n",
      "5     4.5\n",
      "6     4.0\n",
      "7     2.2\n",
      "8     4.1\n",
      "9     7.6\n",
      "10    2.1\n",
      "11    4.3\n",
      "12    3.6\n",
      "13    2.6\n",
      "14    3.5\n",
      "15    4.5\n",
      "16    5.2\n",
      "17    5.3\n",
      "18    4.5,     Value\n",
      "0     0.3\n",
      "1     0.2\n",
      "2     2.0\n",
      "3     8.3\n",
      "4     9.2\n",
      "5     9.0\n",
      "6     2.1\n",
      "7     9.5\n",
      "8     1.5\n",
      "9     8.5\n",
      "10    7.3\n",
      "11    4.6\n",
      "12    9.6\n",
      "13    1.5\n",
      "14    1.2\n",
      "15    2.3\n",
      "16    3.1\n",
      "17    7.6\n",
      "18    9.6]\n",
      "(Pdb) c\n",
      "Value by Batch.png\n"
     ]
    },
    {
     "data": {
      "image/png": "[encoded data removed]",
      "text/plain": [
       "<matplotlib.figure.Figure at 0x2560845be48>"
      ]
     },
     "metadata": {},
     "output_type": "display_data"
    }
   ],
   "source": [
    "    fcp.boxplot(df=df, y='Value', groups='Batch', show=SHOW)"
   ]
  },
  {
   "cell_type": "code",
   "execution_count": null,
   "metadata": {},
   "outputs": [],
   "source": [
    "# create a pytest where you compare png pixel by pixel?"
   ]
  }
 ],
 "metadata": {
  "kernelspec": {
   "display_name": "Python 3",
   "language": "python",
   "name": "python3"
  },
  "language_info": {
   "codemirror_mode": {
    "name": "ipython",
    "version": 3
   },
   "file_extension": ".py",
   "mimetype": "text/x-python",
   "name": "python",
   "nbconvert_exporter": "python",
   "pygments_lexer": "ipython3",
   "version": "3.6.4"
  },
  "toc": {
   "nav_menu": {},
   "number_sections": true,
   "sideBar": true,
   "skip_h1_title": true,
   "toc_cell": false,
   "toc_position": {
    "height": "811px",
    "left": "0px",
    "right": "1152px",
    "top": "119px",
    "width": "212px"
   },
   "toc_section_display": "block",
   "toc_window_display": true
  }
 },
 "nbformat": 4,
 "nbformat_minor": 2
}
